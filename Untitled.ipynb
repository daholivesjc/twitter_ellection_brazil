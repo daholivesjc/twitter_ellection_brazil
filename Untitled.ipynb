{
 "cells": [
  {
   "cell_type": "code",
   "execution_count": 1,
   "id": "66d55e7a",
   "metadata": {},
   "outputs": [],
   "source": [
    "import numpy as np \n",
    "import unidecode\n",
    "import pandas as pd \n",
    "import re\n",
    "import nltk \n",
    "import string\n",
    "import matplotlib.pyplot as plt\n",
    "from nltk.corpus import stopwords\n",
    "from sklearn.feature_extraction.text import TfidfVectorizer\n",
    "from sklearn.model_selection import train_test_split\n",
    "from sklearn.ensemble import RandomForestClassifier\n",
    "from sklearn.metrics import classification_report, confusion_matrix, accuracy_score\n",
    "from pycaret.classification import *\n",
    "from nltk.stem.rslp import RSLPStemmer\n",
    "from helpers import (\n",
    "    clean_text\n",
    ")\n",
    "import warnings\n",
    "warnings.filterwarnings('ignore')\n",
    "\n",
    "lemmatizer = RSLPStemmer()"
   ]
  },
  {
   "cell_type": "code",
   "execution_count": 2,
   "id": "d36ca137",
   "metadata": {},
   "outputs": [],
   "source": [
    "dataframe = pd.read_csv(\"/home/daholive/Documents/twitter_ellection_brazil/datasource/TweetsWithTheme.csv\", sep=\",\")"
   ]
  },
  {
   "cell_type": "code",
   "execution_count": 3,
   "id": "9a8e74ac",
   "metadata": {},
   "outputs": [],
   "source": [
    "dataframe[\"sentiment\"] = dataframe[\"sentiment\"].map({\n",
    "    \"Negativo\": 0,\n",
    "    \"Positivo\": 1    \n",
    "})"
   ]
  },
  {
   "cell_type": "code",
   "execution_count": 4,
   "id": "b586c4de",
   "metadata": {},
   "outputs": [],
   "source": [
    "stop_words_br = list(set(stopwords.words(\"portuguese\")))\n",
    "stop_words_br_no_accent = [unidecode.unidecode(word) for word in list(set(stopwords.words(\"portuguese\")))]"
   ]
  },
  {
   "cell_type": "code",
   "execution_count": 5,
   "id": "cc1e5fb1",
   "metadata": {},
   "outputs": [],
   "source": [
    "def clean_text(texto):\n",
    "    \n",
    "    punct = string.punctuation # Cria uma tabela de tradução\n",
    "    trantab = str.maketrans(punct, len(punct)*' ') # Todo simbolo da pontuação e substituido por um espaço\n",
    "    \n",
    "    emoj = re.compile(\"[\"\n",
    "        u\"\\U0001F600-\\U0001F64F\"  # emoticons\n",
    "        u\"\\U0001F300-\\U0001F5FF\"  # symbols & pictographs\n",
    "        u\"\\U0001F680-\\U0001F6FF\"  # transport & map symbols\n",
    "        u\"\\U0001F1E0-\\U0001F1FF\"  # flags (iOS)\n",
    "        u\"\\U00002500-\\U00002BEF\"  # chinese char\n",
    "        u\"\\U00002702-\\U000027B0\"\n",
    "        u\"\\U00002702-\\U000027B0\"\n",
    "        u\"\\U000024C2-\\U0001F251\"\n",
    "        u\"\\U0001f926-\\U0001f937\"\n",
    "        u\"\\U00010000-\\U0010ffff\"\n",
    "        u\"\\u2640-\\u2642\" \n",
    "        u\"\\u2600-\\u2B55\"\n",
    "        u\"\\u200d\"\n",
    "        u\"\\u23cf\"\n",
    "        u\"\\u23e9\"\n",
    "        u\"\\u231a\"\n",
    "        u\"\\ufe0f\"  # dingbats\n",
    "        u\"\\u3030\"\"]+\", re.UNICODE)\n",
    "    \n",
    "    texto = re.sub('\\d+', '', str(texto)).replace(\"&gt;\",\" \").replace(\"&lt;\",\" \") \n",
    "    texto = re.sub(r\"https?:\\/\\/\\S+\",\"\", texto)\n",
    "    texto = re.sub(r\"@[A-Za-z0-9\\w]+\",\"\", texto)\n",
    "    texto = re.sub(r\"#[A-Za-z0-9\\w]+\",\"\", texto)\n",
    "    texto = re.sub('^RT ',' ',texto)\n",
    "    texto = texto.translate(trantab).replace(\"\\n\",\" \")\n",
    "    texto = re.sub(emoj, '', texto).replace(\"“\",\" \").replace(\"”\",\" \").strip().lower()\n",
    "    texto = unidecode.unidecode(texto)\n",
    "    texto = ' '.join([word for word in texto.split() if word not in stop_words_br_no_accent])\n",
    "    texto = ' '.join([word for word in texto.split() if word.isalnum()])\n",
    "    # texto = ' '.join([lemmatizer.stem(word) for word in texto.split()])\n",
    "    \n",
    "    return \" \".join(texto.split())"
   ]
  },
  {
   "cell_type": "code",
   "execution_count": 6,
   "id": "64cb242b",
   "metadata": {},
   "outputs": [],
   "source": [
    "features = dataframe[\"tweet_text\"].map(clean_text).values\n",
    "labels = dataframe[\"sentiment\"].values"
   ]
  },
  {
   "cell_type": "code",
   "execution_count": 7,
   "id": "5ff05e14",
   "metadata": {},
   "outputs": [],
   "source": [
    "\"\"\"\n",
    "max_df is used for removing terms that appear too frequently, also known as \"corpus-specific stop words\". For example:\n",
    "\n",
    "max_df = 0.50 means \"ignore terms that appear in more than 50% of the documents\".\n",
    "max_df = 25 means \"ignore terms that appear in more than 25 documents\".\n",
    "The default max_df is 1.0, which means \"ignore terms that appear in more than 100% of the documents\". Thus, the default setting does not ignore any terms.\n",
    "\n",
    "min_df is used for removing terms that appear too infrequently. For example:\n",
    "\n",
    "min_df = 0.01 means \"ignore terms that appear in less than 1% of the documents\".\n",
    "min_df = 5 means \"ignore terms that appear in less than 5 documents\".\n",
    "The default min_df is 1, which means \"ignore terms that appear in less than 1 document\". Thus, the default setting does not ignore any terms.\n",
    "\"\"\"\n",
    "#max_features=3000,\n",
    "\"\"\"\n",
    "vectorizer = TfidfVectorizer(\n",
    "    min_df=0.004,\n",
    "    max_df=0.7\n",
    ")\n",
    "\"\"\"\n",
    "vectorizer = TfidfVectorizer(\n",
    "    min_df=10,\n",
    "    max_df=0.8,\n",
    "    ngram_range=(1,2),\n",
    "    analyzer='word'\n",
    ").fit(features)\n",
    "processed_features = vectorizer.fit_transform(features)\n"
   ]
  },
  {
   "cell_type": "code",
   "execution_count": 8,
   "id": "d205b228",
   "metadata": {},
   "outputs": [],
   "source": [
    "df_tfidf = pd.DataFrame(\n",
    "    processed_features.toarray(), \n",
    "    columns=vectorizer.get_feature_names(), \n",
    "    index=dataframe.index)"
   ]
  },
  {
   "cell_type": "code",
   "execution_count": 9,
   "id": "9cc240a1",
   "metadata": {},
   "outputs": [],
   "source": [
    "df_setup = pd.concat(\n",
    "    [dataframe[\"sentiment\"], df_tfidf], \n",
    "    axis = 1)"
   ]
  },
  {
   "cell_type": "code",
   "execution_count": null,
   "id": "902b9b2a",
   "metadata": {},
   "outputs": [
    {
     "data": {
      "application/vnd.jupyter.widget-view+json": {
       "model_id": "51c92533e8bd4535a35f743cc7f78fe0",
       "version_major": 2,
       "version_minor": 0
      },
      "text/plain": [
       "IntProgress(value=0, description='Processing: ', max=3)"
      ]
     },
     "metadata": {},
     "output_type": "display_data"
    },
    {
     "data": {
      "text/html": [
       "<div>\n",
       "<style scoped>\n",
       "    .dataframe tbody tr th:only-of-type {\n",
       "        vertical-align: middle;\n",
       "    }\n",
       "\n",
       "    .dataframe tbody tr th {\n",
       "        vertical-align: top;\n",
       "    }\n",
       "\n",
       "    .dataframe thead th {\n",
       "        text-align: right;\n",
       "    }\n",
       "</style>\n",
       "<table border=\"1\" class=\"dataframe\">\n",
       "  <thead>\n",
       "    <tr style=\"text-align: right;\">\n",
       "      <th></th>\n",
       "      <th></th>\n",
       "      <th></th>\n",
       "    </tr>\n",
       "    <tr>\n",
       "      <th></th>\n",
       "      <th></th>\n",
       "      <th></th>\n",
       "    </tr>\n",
       "  </thead>\n",
       "  <tbody>\n",
       "    <tr>\n",
       "      <th>Initiated</th>\n",
       "      <td>. . . . . . . . . . . . . . . . . .</td>\n",
       "      <td>12:47:52</td>\n",
       "    </tr>\n",
       "    <tr>\n",
       "      <th>Status</th>\n",
       "      <td>. . . . . . . . . . . . . . . . . .</td>\n",
       "      <td>Preprocessing Data</td>\n",
       "    </tr>\n",
       "  </tbody>\n",
       "</table>\n",
       "</div>"
      ],
      "text/plain": [
       "                                                                  \n",
       "                                                                  \n",
       "Initiated  . . . . . . . . . . . . . . . . . .            12:47:52\n",
       "Status     . . . . . . . . . . . . . . . . . .  Preprocessing Data"
      ]
     },
     "metadata": {},
     "output_type": "display_data"
    }
   ],
   "source": [
    "pce_1 = setup(\n",
    "    data = df_setup, \n",
    "    target = 'sentiment', \n",
    "    session_id = 5, \n",
    "    train_size = 0.80,\n",
    "    fold=10,\n",
    "    transformation = True,\n",
    "    use_gpu = True,\n",
    "    verbose=True)"
   ]
  },
  {
   "cell_type": "code",
   "execution_count": null,
   "id": "0194ad56",
   "metadata": {},
   "outputs": [],
   "source": [
    "best = compare_models(\n",
    "    fold=5,\n",
    "    sort='F1')  \n",
    "#  0.7637\n",
    "# include=['gbc','lda','ridge','ada','lr','lightgbm'],"
   ]
  },
  {
   "cell_type": "code",
   "execution_count": null,
   "id": "8f147277",
   "metadata": {},
   "outputs": [],
   "source": [
    "best\n",
    "\n",
    "\"\"\"\n",
    "RidgeClassifier(alpha=1.0, class_weight=None, copy_X=True, fit_intercept=True,\n",
    "                max_iter=None, normalize=False, random_state=5, solver='auto',\n",
    "                tol=0.001)\n",
    "\"\"\""
   ]
  },
  {
   "cell_type": "code",
   "execution_count": null,
   "id": "45d8ebf1",
   "metadata": {},
   "outputs": [],
   "source": [
    "tuned_dt = tune_model(best, fold=5)"
   ]
  },
  {
   "cell_type": "code",
   "execution_count": null,
   "id": "ce0698bf",
   "metadata": {},
   "outputs": [],
   "source": [
    "plot_model(tuned_dt, plot = 'auc')"
   ]
  },
  {
   "cell_type": "code",
   "execution_count": null,
   "id": "3885ab45",
   "metadata": {},
   "outputs": [],
   "source": [
    "plot_model(tuned_dt, plot = 'pr')"
   ]
  },
  {
   "cell_type": "code",
   "execution_count": null,
   "id": "aa0351f8",
   "metadata": {},
   "outputs": [],
   "source": [
    "plot_model(tuned_dt, plot='feature')"
   ]
  },
  {
   "cell_type": "code",
   "execution_count": null,
   "id": "b3d6a3aa",
   "metadata": {},
   "outputs": [],
   "source": [
    "plot_model(tuned_dt, plot = 'confusion_matrix')"
   ]
  },
  {
   "cell_type": "code",
   "execution_count": null,
   "id": "e20eb61b",
   "metadata": {},
   "outputs": [],
   "source": [
    "predict_model(tuned_dt);"
   ]
  },
  {
   "cell_type": "code",
   "execution_count": null,
   "id": "1ca72ee0",
   "metadata": {},
   "outputs": [],
   "source": [
    "final_rf = finalize_model(tuned_dt)"
   ]
  },
  {
   "cell_type": "code",
   "execution_count": null,
   "id": "9026cf06",
   "metadata": {},
   "outputs": [],
   "source": [
    "save_model(final_rf,'Final Linear Discriminant Analysis')"
   ]
  },
  {
   "cell_type": "code",
   "execution_count": null,
   "id": "e3249e5f",
   "metadata": {},
   "outputs": [],
   "source": [
    "saved_final_rf = load_model('Final Linear Discriminant Analysis')"
   ]
  },
  {
   "cell_type": "code",
   "execution_count": null,
   "id": "6f0efb4e",
   "metadata": {},
   "outputs": [],
   "source": [
    "saved_final_rf"
   ]
  },
  {
   "cell_type": "code",
   "execution_count": null,
   "id": "bf57f765",
   "metadata": {},
   "outputs": [],
   "source": []
  },
  {
   "cell_type": "code",
   "execution_count": null,
   "id": "8497abfe",
   "metadata": {},
   "outputs": [],
   "source": [
    "texto = [\"Bolsonaro você é um idiota e vai perder a eleição\",\"Lula é o melhor, e ganha no primeiro turno\"]\n",
    "\n",
    "features = [clean_text(w) for w in texto]\n",
    "features"
   ]
  },
  {
   "cell_type": "code",
   "execution_count": null,
   "id": "fd794b18",
   "metadata": {},
   "outputs": [],
   "source": [
    "vectorizer = TfidfVectorizer(\n",
    "    min_df=0.004,\n",
    "    max_df=0.7\n",
    ")"
   ]
  },
  {
   "cell_type": "code",
   "execution_count": null,
   "id": "65dd9055",
   "metadata": {},
   "outputs": [],
   "source": [
    "processed_features = vectorizer.fit_transform(features)"
   ]
  },
  {
   "cell_type": "code",
   "execution_count": null,
   "id": "755969d5",
   "metadata": {},
   "outputs": [],
   "source": [
    "vectorizer.get_feature_names()"
   ]
  },
  {
   "cell_type": "code",
   "execution_count": null,
   "id": "e8cb7826",
   "metadata": {},
   "outputs": [],
   "source": [
    "df_tfidf_v2 = pd.DataFrame(\n",
    "    processed_features.toarray(), \n",
    "    columns=vectorizer.get_feature_names())\n",
    "\n",
    "df_tfidf_v2"
   ]
  },
  {
   "cell_type": "code",
   "execution_count": null,
   "id": "cb062432",
   "metadata": {},
   "outputs": [],
   "source": []
  },
  {
   "cell_type": "code",
   "execution_count": null,
   "id": "433925e3",
   "metadata": {},
   "outputs": [],
   "source": [
    "\n",
    "unseen_predictions = predict_model(tuned_dt, data=df_tfidf_v2)\n"
   ]
  }
 ],
 "metadata": {
  "kernelspec": {
   "display_name": "Python 3 (ipykernel)",
   "language": "python",
   "name": "python3"
  },
  "language_info": {
   "codemirror_mode": {
    "name": "ipython",
    "version": 3
   },
   "file_extension": ".py",
   "mimetype": "text/x-python",
   "name": "python",
   "nbconvert_exporter": "python",
   "pygments_lexer": "ipython3",
   "version": "3.8.13"
  }
 },
 "nbformat": 4,
 "nbformat_minor": 5
}

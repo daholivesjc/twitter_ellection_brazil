{
 "cells": [
  {
   "cell_type": "code",
   "execution_count": 3,
   "id": "66d55e7a",
   "metadata": {},
   "outputs": [],
   "source": [
    "import numpy as np \n",
    "import unidecode\n",
    "import pandas as pd \n",
    "import re\n",
    "import nltk \n",
    "import string\n",
    "from nltk.corpus import stopwords\n",
    "from nltk.stem.rslp import RSLPStemmer\n",
    "\n",
    "\n",
    "import warnings\n",
    "warnings.filterwarnings('ignore')\n",
    "\n",
    "lemmatizer = RSLPStemmer()"
   ]
  },
  {
   "cell_type": "code",
   "execution_count": 5,
   "id": "f2b90ca3",
   "metadata": {},
   "outputs": [],
   "source": [
    "import pyspark \n",
    "from pyspark.sql import SparkSession\n",
    "\n",
    "spark = SparkSession.builder \\\n",
    "    .master(\"local[*]\") \\\n",
    "    .config(\"spark.jars.packages\", \"io.delta:delta-core_2.12:1.1.0\") \\\n",
    "    .config(\"spark.sql.extensions\", \"io.delta.sql.DeltaSparkSessionExtension\") \\\n",
    "    .config(\"spark.sql.catalog.spark_catalog\", \"org.apache.spark.sql.delta.catalog.DeltaCatalog\") \\\n",
    "    .config(\"spark.executor.memory\",\"12G\") \\\n",
    "    .config(\"spark.driver.memory\",\"4G\") \\\n",
    "    .config(\"spark.executor.cores\",\"6\") \\\n",
    "    .getOrCreate()"
   ]
  },
  {
   "cell_type": "code",
   "execution_count": 8,
   "id": "d8e2e8d2",
   "metadata": {},
   "outputs": [],
   "source": [
    "dataframe = spark.read.options(\n",
    "    inferSchema='True',\n",
    "    delimiter=',',\n",
    "    header='True').csv(\"/home/daholive/Documents/twitter_ellection_brazil/datasource/TweetsWithTheme.csv\")"
   ]
  },
  {
   "cell_type": "code",
   "execution_count": 11,
   "id": "0495a802",
   "metadata": {},
   "outputs": [
    {
     "name": "stdout",
     "output_type": "stream",
     "text": [
      "+-------------------+--------------------+--------------------+--------------------+--------------------+\n",
      "|                 id|          tweet_text|          tweet_date|           sentiment|          query_used|\n",
      "+-------------------+--------------------+--------------------+--------------------+--------------------+\n",
      "|1026606627041026050|ela vendo a famíl...|Mon Aug 06 23:11:...|            Negativo|       vera lucia :(|\n",
      "|1026266117646561281|Eu odeio o fato q...|Mon Aug 06 00:38:...|            Negativo|             ciro :(|\n",
      "|1025889796097564672|\"Ciro \"\"mita\"\" ta...| não quero ser ob...|Sat Aug 04 23:42:...|            Negativo|\n",
      "|1026960047937646598|Raiva do Bolsonar...|Tue Aug 07 22:35:...|            Positivo|        bolsonaro :)|\n",
      "|1026447105932623872|\"Reflexos da alie...| Lula é um corrup...| Haddad é um post...| sem sal e inexpr...|\n",
      "+-------------------+--------------------+--------------------+--------------------+--------------------+\n",
      "only showing top 5 rows\n",
      "\n"
     ]
    }
   ],
   "source": [
    "dataframe.show(5)"
   ]
  },
  {
   "cell_type": "code",
   "execution_count": 5,
   "id": "d36ca137",
   "metadata": {},
   "outputs": [],
   "source": [
    "dataframe = pd.read_csv(\"/home/daholive/Documents/twitter_ellection_brazil/datasource/TweetsWithTheme.csv\", sep=\",\")"
   ]
  },
  {
   "cell_type": "code",
   "execution_count": 6,
   "id": "9a8e74ac",
   "metadata": {},
   "outputs": [],
   "source": [
    "dataframe[\"sentiment\"] = dataframe[\"sentiment\"].map({\n",
    "    \"Negativo\": 0,\n",
    "    \"Positivo\": 1    \n",
    "})"
   ]
  },
  {
   "cell_type": "code",
   "execution_count": 7,
   "id": "cc1e5fb1",
   "metadata": {},
   "outputs": [],
   "source": [
    "def clean_text(texto):\n",
    "    \n",
    "    punct = string.punctuation # Cria uma tabela de tradução\n",
    "    trantab = str.maketrans(punct, len(punct)*' ') # Todo simbolo da pontuação e substituido por um espaço\n",
    "    \n",
    "    emoj = re.compile(\"[\"\n",
    "        u\"\\U0001F600-\\U0001F64F\"  # emoticons\n",
    "        u\"\\U0001F300-\\U0001F5FF\"  # symbols & pictographs\n",
    "        u\"\\U0001F680-\\U0001F6FF\"  # transport & map symbols\n",
    "        u\"\\U0001F1E0-\\U0001F1FF\"  # flags (iOS)\n",
    "        u\"\\U00002500-\\U00002BEF\"  # chinese char\n",
    "        u\"\\U00002702-\\U000027B0\"\n",
    "        u\"\\U00002702-\\U000027B0\"\n",
    "        u\"\\U000024C2-\\U0001F251\"\n",
    "        u\"\\U0001f926-\\U0001f937\"\n",
    "        u\"\\U00010000-\\U0010ffff\"\n",
    "        u\"\\u2640-\\u2642\" \n",
    "        u\"\\u2600-\\u2B55\"\n",
    "        u\"\\u200d\"\n",
    "        u\"\\u23cf\"\n",
    "        u\"\\u23e9\"\n",
    "        u\"\\u231a\"\n",
    "        u\"\\ufe0f\"  # dingbats\n",
    "        u\"\\u3030\"\"]+\", re.UNICODE)\n",
    "    \n",
    "    texto = texto.lower()\n",
    "    texto = re.sub('\\d+', '', str(texto)).replace(\"&gt;\",\" \").replace(\"&lt;\",\" \") \n",
    "    texto = re.sub(r\"https?:\\/\\/\\S+\",\"\", texto)\n",
    "    texto = re.sub(r\"@[A-Za-z0-9\\w]+\",\"\", texto)\n",
    "    texto = re.sub(r\"#[A-Za-z0-9\\w]+\",\"\", texto)\n",
    "    texto = re.sub('^RT ',' ',texto)\n",
    "    texto = texto.translate(trantab).replace(\"\\n\",\" \")\n",
    "    # texto = re.sub(emoj, '', texto).replace(\"“\",\" \").replace(\"”\",\" \").strip().lower()\n",
    "    texto = texto.replace(\"“\",\" \").replace(\"”\",\" \")\n",
    "    texto = unidecode.unidecode(texto)\n",
    "    texto = ' '.join([word for word in texto.split() if word not in list(set(stopwords.words(\"portuguese\")))])\n",
    "    texto = ' '.join([word for word in texto.split() if word.isalnum()])\n",
    "    texto = ' '.join([re.sub(r'([a-z])\\1+', r'\\1',word) for word in texto.split()])\n",
    "    texto = ' '.join([re.sub(r'(ha)\\1+', r'\\1',word) for word in texto.split()])\n",
    "    texto = ' '.join([re.sub(r'(uha)\\1+', r'\\1',word) for word in texto.split()])\n",
    "    texto = ' '.join([lemmatizer.stem(word) for word in texto.split()])\n",
    "\n",
    "    return texto.strip()"
   ]
  },
  {
   "cell_type": "code",
   "execution_count": null,
   "id": "64cb242b",
   "metadata": {},
   "outputs": [],
   "source": [
    "features = dataframe[\"tweet_text\"].map(clean_text).values\n",
    "labels = dataframe[\"sentiment\"].values"
   ]
  },
  {
   "cell_type": "code",
   "execution_count": null,
   "id": "5ff05e14",
   "metadata": {},
   "outputs": [],
   "source": [
    "from sklearn.feature_extraction.text import CountVectorizer, TfidfTransformer"
   ]
  },
  {
   "cell_type": "code",
   "execution_count": null,
   "id": "19d34c0c",
   "metadata": {},
   "outputs": [],
   "source": [
    "# Bigram Counts\n",
    "bigram_vectorizer = CountVectorizer(ngram_range=(1, 2), max_features = 1000)\n",
    "bigram_vectorizer.fit(features)\n",
    "X_train_bigram = bigram_vectorizer.transform(features)"
   ]
  },
  {
   "cell_type": "code",
   "execution_count": null,
   "id": "2afdebff",
   "metadata": {},
   "outputs": [],
   "source": [
    "# Bigram Tf-Idf\n",
    "bigram_tf_idf_transformer = TfidfTransformer()\n",
    "bigram_tf_idf_transformer.fit(X_train_bigram)\n",
    "X_train_bigram_tf_idf = bigram_tf_idf_transformer.transform(X_train_bigram)"
   ]
  },
  {
   "cell_type": "code",
   "execution_count": null,
   "id": "cb2bab65",
   "metadata": {},
   "outputs": [],
   "source": [
    "count_vect_df = pd.DataFrame(X_train_bigram_tf_idf.todense(), columns=bigram_vectorizer.get_feature_names())\n",
    "count_vect_df"
   ]
  },
  {
   "cell_type": "code",
   "execution_count": null,
   "id": "d205b228",
   "metadata": {},
   "outputs": [],
   "source": [
    "# df_tfidf = pd.DataFrame(\n",
    "#    processed_features.toarray(), \n",
    "#    columns=vectorizer.get_feature_names(), \n",
    "#    index=dataframe.index)"
   ]
  },
  {
   "cell_type": "code",
   "execution_count": null,
   "id": "9cc240a1",
   "metadata": {},
   "outputs": [],
   "source": [
    "df_setup = pd.concat(\n",
    "    [dataframe[\"sentiment\"], count_vect_df], \n",
    "    axis = 1)\n",
    "df_setup"
   ]
  },
  {
   "cell_type": "code",
   "execution_count": null,
   "id": "d53e355c",
   "metadata": {},
   "outputs": [],
   "source": [
    "from pycaret.classification import *\n",
    "# setup = setup(data=df_setup, target='target_cat', session_id=123, train_size = 0.7, fold=10, silent=True)"
   ]
  },
  {
   "cell_type": "code",
   "execution_count": null,
   "id": "902b9b2a",
   "metadata": {},
   "outputs": [],
   "source": [
    "pce_1 = setup(\n",
    "    data = df_setup, \n",
    "    target = 'sentiment', \n",
    "    session_id = 5, \n",
    "    train_size = 0.75,\n",
    "    fold=5,\n",
    "    use_gpu = True,\n",
    "    n_jobs=-1,\n",
    "    fix_imbalance = True,\n",
    "    remove_outliers = True,\n",
    "    handle_unknown_categorical = True, \n",
    "    unknown_categorical_method = 'most_frequent')"
   ]
  },
  {
   "cell_type": "code",
   "execution_count": null,
   "id": "0194ad56",
   "metadata": {},
   "outputs": [],
   "source": [
    "best = compare_models(sort='F1')  \n",
    "\n",
    "# fold=5\n",
    "#  0.7637\n",
    "# include=['gbc','lda','ridge','ada','lr','lightgbm'],"
   ]
  },
  {
   "cell_type": "code",
   "execution_count": null,
   "id": "8f147277",
   "metadata": {},
   "outputs": [],
   "source": [
    "best\n",
    "\n",
    "\"\"\"\n",
    "RidgeClassifier(alpha=1.0, class_weight=None, copy_X=True, fit_intercept=True,\n",
    "                max_iter=None, normalize=False, random_state=5, solver='auto',\n",
    "                tol=0.001)\n",
    "\"\"\""
   ]
  },
  {
   "cell_type": "code",
   "execution_count": null,
   "id": "45d8ebf1",
   "metadata": {},
   "outputs": [],
   "source": [
    "tuned_dt = tune_model(best, fold=5)"
   ]
  },
  {
   "cell_type": "code",
   "execution_count": null,
   "id": "ce0698bf",
   "metadata": {},
   "outputs": [],
   "source": [
    "plot_model(tuned_dt, plot = 'auc')"
   ]
  },
  {
   "cell_type": "code",
   "execution_count": null,
   "id": "3885ab45",
   "metadata": {},
   "outputs": [],
   "source": [
    "plot_model(tuned_dt, plot = 'pr')"
   ]
  },
  {
   "cell_type": "code",
   "execution_count": null,
   "id": "aa0351f8",
   "metadata": {},
   "outputs": [],
   "source": [
    "plot_model(tuned_dt, plot='feature')"
   ]
  },
  {
   "cell_type": "code",
   "execution_count": null,
   "id": "b3d6a3aa",
   "metadata": {},
   "outputs": [],
   "source": [
    "plot_model(tuned_dt, plot = 'confusion_matrix')"
   ]
  },
  {
   "cell_type": "code",
   "execution_count": null,
   "id": "e20eb61b",
   "metadata": {},
   "outputs": [],
   "source": [
    "predict_model(tuned_dt);"
   ]
  },
  {
   "cell_type": "code",
   "execution_count": null,
   "id": "1ca72ee0",
   "metadata": {},
   "outputs": [],
   "source": [
    "final_rf = finalize_model(tuned_dt)"
   ]
  },
  {
   "cell_type": "code",
   "execution_count": null,
   "id": "9026cf06",
   "metadata": {},
   "outputs": [],
   "source": [
    "save_model(final_rf,'Final Linear Discriminant Analysis')"
   ]
  },
  {
   "cell_type": "code",
   "execution_count": null,
   "id": "e3249e5f",
   "metadata": {},
   "outputs": [],
   "source": [
    "saved_final_rf = load_model('Final Linear Discriminant Analysis')"
   ]
  },
  {
   "cell_type": "code",
   "execution_count": null,
   "id": "6f0efb4e",
   "metadata": {},
   "outputs": [],
   "source": [
    "saved_final_rf"
   ]
  },
  {
   "cell_type": "code",
   "execution_count": null,
   "id": "bf57f765",
   "metadata": {},
   "outputs": [],
   "source": []
  },
  {
   "cell_type": "code",
   "execution_count": null,
   "id": "8497abfe",
   "metadata": {},
   "outputs": [],
   "source": [
    "texto = [\"Bolsonaro você é um idiota e vai perder a eleição\",\"Lula é o melhor, e ganha no primeiro turno\"]\n",
    "\n",
    "features = [clean_text(w) for w in texto]\n",
    "features"
   ]
  },
  {
   "cell_type": "code",
   "execution_count": null,
   "id": "fd794b18",
   "metadata": {},
   "outputs": [],
   "source": [
    "vectorizer = TfidfVectorizer(\n",
    "    min_df=0.004,\n",
    "    max_df=0.7\n",
    ")"
   ]
  },
  {
   "cell_type": "code",
   "execution_count": null,
   "id": "65dd9055",
   "metadata": {},
   "outputs": [],
   "source": [
    "processed_features = vectorizer.fit_transform(features)"
   ]
  },
  {
   "cell_type": "code",
   "execution_count": null,
   "id": "755969d5",
   "metadata": {},
   "outputs": [],
   "source": [
    "vectorizer.get_feature_names()"
   ]
  },
  {
   "cell_type": "code",
   "execution_count": null,
   "id": "e8cb7826",
   "metadata": {},
   "outputs": [],
   "source": [
    "df_tfidf_v2 = pd.DataFrame(\n",
    "    processed_features.toarray(), \n",
    "    columns=vectorizer.get_feature_names())\n",
    "\n",
    "df_tfidf_v2"
   ]
  },
  {
   "cell_type": "code",
   "execution_count": null,
   "id": "cb062432",
   "metadata": {},
   "outputs": [],
   "source": []
  },
  {
   "cell_type": "code",
   "execution_count": null,
   "id": "433925e3",
   "metadata": {},
   "outputs": [],
   "source": [
    "\n",
    "unseen_predictions = predict_model(tuned_dt, data=df_tfidf_v2)\n"
   ]
  }
 ],
 "metadata": {
  "kernelspec": {
   "display_name": "Python 3 (ipykernel)",
   "language": "python",
   "name": "python3"
  },
  "language_info": {
   "codemirror_mode": {
    "name": "ipython",
    "version": 3
   },
   "file_extension": ".py",
   "mimetype": "text/x-python",
   "name": "python",
   "nbconvert_exporter": "python",
   "pygments_lexer": "ipython3",
   "version": "3.8.12"
  }
 },
 "nbformat": 4,
 "nbformat_minor": 5
}
